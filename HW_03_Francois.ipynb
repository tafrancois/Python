{
 "cells": [
  {
   "cell_type": "markdown",
   "id": "ba735cfb-c8e9-40e0-bf01-1d30a02e7af6",
   "metadata": {},
   "source": [
    "# DSCI 503 - Homework 03\n",
    "\n",
    "### Talaya Francois"
   ]
  },
  {
   "cell_type": "markdown",
   "id": "62333997-60ce-491a-bf58-c03e42daf003",
   "metadata": {},
   "source": [
    "## Problem 1: Dot Product"
   ]
  },
  {
   "cell_type": "code",
   "execution_count": 1,
   "id": "db0f6ded-031b-4d07-a7a6-9d9d67ad191d",
   "metadata": {},
   "outputs": [],
   "source": [
    "def dot_product(x, y):\n",
    "    dot_prod = 0\n",
    "    for i in range(len(x)):\n",
    "        dot_prod += (x[i] * y[i]) \n",
    "    return dot_prod\n",
    "\n"
   ]
  },
  {
   "cell_type": "code",
   "execution_count": 2,
   "id": "537c5d68-37dc-4339-b2a7-0dd237a26e69",
   "metadata": {},
   "outputs": [
    {
     "name": "stdout",
     "output_type": "stream",
     "text": [
      "The dot product of v1 and v2 is 16220.\n"
     ]
    }
   ],
   "source": [
    "v1 = [38, 9, 40, 34, 20, 16, 42, 36, 12, 1, 23, 46, 31, 19, 30, 33, 16, 43, 24, 41] \n",
    "v2 = [43, 13, 35, 14, 26, 3, 36, 15, 42, 44, 45, 20, 17, 6, 47, 40, 38, 41, 31, 24] \n",
    "\n",
    "print(f\"The dot product of v1 and v2 is {dot_product(v1, v2)}.\")"
   ]
  },
  {
   "cell_type": "markdown",
   "id": "5752cd83-0a3d-4032-ab02-4edc56eb9570",
   "metadata": {},
   "source": [
    "## Problem 2: Amortization "
   ]
  },
  {
   "cell_type": "code",
   "execution_count": 3,
   "id": "f381856a-7d17-4e94-b2a5-41a9b24c0c53",
   "metadata": {},
   "outputs": [],
   "source": [
    "def  count_payments(amount, rate, pmt): # initial size of loan, interest rate, pmt = monthly payment \n",
    "    new_balance = amount\n",
    "    count = 0 \n",
    "        \n",
    "    while new_balance > 0:\n",
    "        new_balance = new_balance * (1 + rate) - pmt\n",
    "        new_balance = round(new_balance, 2)\n",
    "        count += 1\n",
    "    return count\n",
    "\n",
    "    "
   ]
  },
  {
   "cell_type": "code",
   "execution_count": 4,
   "id": "cb204d4d-ae54-4859-bbca-16a7be0fe4f4",
   "metadata": {},
   "outputs": [
    {
     "name": "stdout",
     "output_type": "stream",
     "text": [
      "351 monthly payments of $850 would be required.\n",
      "312 monthly payments of $900 would be required.\n",
      "281 monthly payments of $950 would be required.\n",
      "256 monthly payments of $1000 would be required.\n",
      "236 monthly payments of $1050 would be required.\n"
     ]
    }
   ],
   "source": [
    "pmt = 850 \n",
    "\n",
    "while pmt <= 1050:\n",
    "    count = count_payments(160000, 0.004, pmt)\n",
    "    print(f\"{count} monthly payments of ${pmt} would be required.\")\n",
    "    pmt += 50 "
   ]
  },
  {
   "cell_type": "code",
   "execution_count": 5,
   "id": "c4c6320a-36cc-4023-9aae-27a1077f0e00",
   "metadata": {},
   "outputs": [
    {
     "name": "stdout",
     "output_type": "stream",
     "text": [
      "308 monthly payments of $850 would be required.\n",
      "279 monthly payments of $900 would be required.\n",
      "255 monthly payments of $950 would be required.\n",
      "235 monthly payments of $1000 would be required.\n",
      "219 monthly payments of $1050 would be required.\n"
     ]
    }
   ],
   "source": [
    "pmt = 850 \n",
    "\n",
    "while pmt <= 1050:\n",
    "    count = count_payments(160000, 0.0035, pmt)\n",
    "    print(f\"{count} monthly payments of ${pmt} would be required.\")\n",
    "    pmt += 50 \n",
    "    "
   ]
  },
  {
   "cell_type": "code",
   "execution_count": 6,
   "id": "812b714a-2828-4d66-a776-ef8aaa6fcff9",
   "metadata": {},
   "outputs": [
    {
     "ename": "NameError",
     "evalue": "name 'countcount_payments' is not defined",
     "output_type": "error",
     "traceback": [
      "\u001b[1;31m---------------------------------------------------------------------------\u001b[0m",
      "\u001b[1;31mNameError\u001b[0m                                 Traceback (most recent call last)",
      "Cell \u001b[1;32mIn[6], line 4\u001b[0m\n\u001b[0;32m      1\u001b[0m pmt \u001b[38;5;241m=\u001b[39m \u001b[38;5;241m850\u001b[39m \n\u001b[0;32m      3\u001b[0m \u001b[38;5;28;01mwhile\u001b[39;00m pmt \u001b[38;5;241m<\u001b[39m\u001b[38;5;241m=\u001b[39m \u001b[38;5;241m1050\u001b[39m:\n\u001b[1;32m----> 4\u001b[0m     countcount_payments(\u001b[38;5;241m160000\u001b[39m, \u001b[38;5;241m0.004\u001b[39m, pmt)\n\u001b[0;32m      5\u001b[0m     \u001b[38;5;28mprint\u001b[39m(\u001b[38;5;124mf\u001b[39m\u001b[38;5;124m\"\u001b[39m\u001b[38;5;132;01m{\u001b[39;00mcount\u001b[38;5;132;01m}\u001b[39;00m\u001b[38;5;124m monthly payments of $\u001b[39m\u001b[38;5;132;01m{\u001b[39;00mpmt\u001b[38;5;132;01m}\u001b[39;00m\u001b[38;5;124m would be required.\u001b[39m\u001b[38;5;124m\"\u001b[39m)\n\u001b[0;32m      6\u001b[0m     pmt \u001b[38;5;241m+\u001b[39m\u001b[38;5;241m=\u001b[39m \u001b[38;5;241m50\u001b[39m\n",
      "\u001b[1;31mNameError\u001b[0m: name 'countcount_payments' is not defined"
     ]
    }
   ],
   "source": [
    "pmt = 850 \n",
    "\n",
    "while pmt <= 1050:\n",
    "    countcount_payments(160000, 0.004, pmt)\n",
    "    print(f\"{count} monthly payments of ${pmt} would be required.\")\n",
    "    pmt += 50 \n",
    "\n"
   ]
  },
  {
   "cell_type": "code",
   "execution_count": null,
   "id": "3da951b8-aab8-44c2-9c54-d811fd2f3280",
   "metadata": {},
   "outputs": [],
   "source": [
    "pmt = 850 \n",
    "\n",
    "while pmt <= 1050:\n",
    "    count = count_payments(160000, 0.0035, pmt)\n",
    "    print(f\"{count} monthly payments of ${pmt} would be required.\")\n",
    "    pmt += 50 \n",
    "\n"
   ]
  },
  {
   "cell_type": "markdown",
   "id": "ae60c26f-fcab-4c91-a450-26f63c87b1bb",
   "metadata": {},
   "source": [
    "## Problem 3: Minimum"
   ]
  },
  {
   "cell_type": "code",
   "execution_count": 7,
   "id": "2ed33a0f-216f-443d-84b8-90b8bd08daff",
   "metadata": {},
   "outputs": [],
   "source": [
    "def minimum(x):\n",
    "    smallest = x[0]\n",
    "    for i in range(len(x)):\n",
    "        if x[i] < smallest:\n",
    "            smallest = x[i] \n",
    "\n",
    "    return smallest"
   ]
  },
  {
   "cell_type": "code",
   "execution_count": 9,
   "id": "c6c4e24f-02f1-4a00-83e7-84bf99a199f1",
   "metadata": {},
   "outputs": [
    {
     "name": "stdout",
     "output_type": "stream",
     "text": [
      "4.1\n",
      "3.4\n",
      "Chicago\n"
     ]
    }
   ],
   "source": [
    "list1 = [9.8, 7.4, 5.6, 4.8, 4.8, 5.3, 4.1, 9.6, 5.4] \n",
    "list2 = [3.4, 7.6, 8.7, 7.5, 9.8, 7.5, 6.7, 8.7, 8.4] \n",
    "list3 = ['St. Louis', 'Kansas City', 'Chicago', 'Little Rock', 'Omaha'] \n",
    "\n",
    "print(minimum(list1))\n",
    "print(minimum(list2))\n",
    "print(minimum(list3))"
   ]
  },
  {
   "cell_type": "markdown",
   "id": "7e240bea-889d-4733-81fc-fd3104f78f4e",
   "metadata": {},
   "source": [
    "## Problem 4: Argmin"
   ]
  },
  {
   "cell_type": "code",
   "execution_count": 10,
   "id": "85d0d1ae-dcbb-48e9-9ad0-be1ec0b26b7c",
   "metadata": {},
   "outputs": [],
   "source": [
    "def argmin(x):\n",
    "    smallest_num = x[0]  \n",
    "    smallest_index = 0 # ?\n",
    "    for i in range(len(x)): \n",
    "        if x[i] < smallest_num:\n",
    "            smallest_num = x[i] \n",
    "            smallest_index = i\n",
    "\n",
    "    return smallest_index"
   ]
  },
  {
   "cell_type": "code",
   "execution_count": 11,
   "id": "9b00d75f-4f1d-4093-8969-189dbed1f876",
   "metadata": {},
   "outputs": [
    {
     "name": "stdout",
     "output_type": "stream",
     "text": [
      "6\n",
      "0\n",
      "2\n"
     ]
    }
   ],
   "source": [
    "print(argmin(list1))\n",
    "print(argmin(list2))\n",
    "print(argmin(list3))"
   ]
  },
  {
   "cell_type": "markdown",
   "id": "9fda6360-45b7-4af5-88d3-16aafe28c7ca",
   "metadata": {},
   "source": [
    "## Problem 5: Find Smallest Elements"
   ]
  },
  {
   "cell_type": "code",
   "execution_count": 12,
   "id": "cb94f6e5-0ea8-4f54-ad59-4f460136a022",
   "metadata": {},
   "outputs": [],
   "source": [
    "def find_smallest(x, n = None):\n",
    " \n",
    "    if n == None: \n",
    "        return minimum(x) \n",
    "\n",
    "    elif n > len(x):\n",
    "        return x \n",
    "\n",
    "    elif n > 0: \n",
    "        sorted_x = sorted(x)\n",
    "        smallest_n_values = sorted_x[:n] \n",
    "        \n",
    "        return smallest_n_values\n",
    "        "
   ]
  },
  {
   "cell_type": "code",
   "execution_count": 13,
   "id": "f27c82a8-f280-4035-a0d3-176bccc282d5",
   "metadata": {},
   "outputs": [
    {
     "name": "stdout",
     "output_type": "stream",
     "text": [
      "17\n",
      "[17]\n",
      "[17, 28]\n",
      "[17, 28, 28, 39, 53]\n",
      "[39, 74, 28, 64, 17, 28, 54, 53]\n"
     ]
    }
   ],
   "source": [
    "my_list = [39, 74, 28, 64, 17, 28, 54, 53]\n",
    "\n",
    "print(find_smallest(my_list))\n",
    "print(find_smallest(my_list, 1)) \n",
    "print(find_smallest(my_list, 2))\n",
    "print(find_smallest(my_list, 5))\n",
    "print(find_smallest(my_list, 12))"
   ]
  },
  {
   "cell_type": "code",
   "execution_count": null,
   "id": "a7b5c0e7-a395-46a8-8f43-2e20ab562d50",
   "metadata": {},
   "outputs": [],
   "source": [
    "print(my_list)"
   ]
  },
  {
   "cell_type": "markdown",
   "id": "659562b5-fa83-42a5-a3a5-f4b44574b31e",
   "metadata": {},
   "source": [
    "## Problem 6: Find Unique Elements"
   ]
  },
  {
   "cell_type": "code",
   "execution_count": 14,
   "id": "6d955543-9da9-4249-9321-2e8616fa6e2d",
   "metadata": {},
   "outputs": [],
   "source": [
    "def unique(x):\n",
    "    sorted_unique = sorted(x)\n",
    "    final_unique_list = []\n",
    "    for i in sorted_unique:\n",
    "       if i not in final_unique_list:\n",
    "            final_unique_list.append(i)\n",
    "    return final_unique_list"
   ]
  },
  {
   "cell_type": "code",
   "execution_count": 15,
   "id": "1b25ddd6-fd6b-4051-8667-c09f7b7da568",
   "metadata": {},
   "outputs": [
    {
     "name": "stdout",
     "output_type": "stream",
     "text": [
      "[12, 14, 16, 19, 23]\n",
      "['bat', 'cat', 'dog', 'frog']\n"
     ]
    }
   ],
   "source": [
    "int_list = [23, 16, 23, 12, 14, 23, 12, 19, 19] \n",
    "str_list = ['cat', 'dog', 'dog', 'cat', 'bat', 'frog', 'dog', 'frog']\n",
    "\n",
    "print(unique(int_list))\n",
    "print(unique(str_list))"
   ]
  },
  {
   "cell_type": "markdown",
   "id": "a6e25b98-b5a1-44ae-8a1f-b2e5303fcfca",
   "metadata": {},
   "source": [
    "## Problem 7: Frequency Distribution"
   ]
  },
  {
   "cell_type": "code",
   "execution_count": 16,
   "id": "c7cf09be-ed11-4ee0-bfba-89827939c06d",
   "metadata": {},
   "outputs": [],
   "source": [
    "def freq_dist(x):\n",
    "    \n",
    "    count_list = [] \n",
    "    \n",
    "    value_list = unique(x)\n",
    "    \n",
    "    for v in value_list:\n",
    "        count = 0\n",
    "        for i in x:\n",
    "            if i == v:\n",
    "                count += 1        \n",
    "        count_list.append(count)\n",
    "        \n",
    "    return value_list, count_list"
   ]
  },
  {
   "cell_type": "code",
   "execution_count": 17,
   "id": "1aadb92f-d1a8-4c68-a2f2-694606045c28",
   "metadata": {},
   "outputs": [
    {
     "name": "stdout",
     "output_type": "stream",
     "text": [
      "Unique values: ['A', 'B', 'C', 'D', 'F']\n",
      "Frequencies: [6, 8, 5, 5, 3]\n"
     ]
    }
   ],
   "source": [
    "grades = ['A', 'D', 'A', 'C', 'B', 'F', 'A', 'D', 'C',  \n",
    "'B', 'F', 'A', 'C', 'B', 'A', 'B', 'B', 'C',  \n",
    "'B', 'F', 'D', 'D', 'A', 'C', 'B', 'B', 'D']\n",
    "\n",
    "unique_values, frequencies = freq_dist(grades)\n",
    "\n",
    "print(f\"Unique values: {unique_values}\\nFrequencies: {frequencies}\") # how do I align these lists? "
   ]
  },
  {
   "cell_type": "markdown",
   "id": "da4e0e4d-2181-424a-b478-4d6d877d71fd",
   "metadata": {},
   "source": [
    "## Problem 8: Weighed Means"
   ]
  },
  {
   "cell_type": "code",
   "execution_count": 18,
   "id": "23b5f089-c64d-471b-b80a-7bf90f0efb02",
   "metadata": {},
   "outputs": [],
   "source": [
    "def mean(x, w = None):\n",
    "    reg_mean = 0\n",
    "    sum_of_numerators = 0\n",
    "    count = 0 \n",
    "    if w == None: \n",
    "        for i in x:\n",
    "            sum_of_numerators += i \n",
    "            count += 1 \n",
    "\n",
    "        reg_mean = sum_of_numerators/count\n",
    "\n",
    "        return reg_mean\n",
    "    \n",
    "        \n",
    "    elif type(w) == list: \n",
    "        weighed_mean = 0\n",
    "        sum_of_numerators = 0\n",
    "        sum_of_weights = 0\n",
    "        \n",
    "        for i in range(len(w)):  \n",
    "            sum_of_numerators += w[i] * x[i] \n",
    "            sum_of_weights += w[i]\n",
    "\n",
    "        weighed_mean = sum_of_numerators/sum_of_weights\n",
    "\n",
    "        return weighed_mean\n",
    "            \n",
    "\n"
   ]
  },
  {
   "cell_type": "code",
   "execution_count": 19,
   "id": "de356d41-5fd5-4501-b7a1-9e8875a5da4a",
   "metadata": {},
   "outputs": [
    {
     "name": "stdout",
     "output_type": "stream",
     "text": [
      "Standard Mean: 4.9 \n",
      "Weighted Mean: 4.15\n"
     ]
    }
   ],
   "source": [
    "values = [4, 7, 3, 5, 2, 6, 8, 2, 4, 8] \n",
    "weights = [2, 1, 3, 1, 2, 3, 1, 4, 2, 1] \n",
    "\n",
    "print(f\"Standard Mean: {mean(values)} \\nWeighted Mean: {mean(values, weights)}\")"
   ]
  }
 ],
 "metadata": {
  "kernelspec": {
   "display_name": "Python [conda env:base] *",
   "language": "python",
   "name": "conda-base-py"
  },
  "language_info": {
   "codemirror_mode": {
    "name": "ipython",
    "version": 3
   },
   "file_extension": ".py",
   "mimetype": "text/x-python",
   "name": "python",
   "nbconvert_exporter": "python",
   "pygments_lexer": "ipython3",
   "version": "3.12.7"
  }
 },
 "nbformat": 4,
 "nbformat_minor": 5
}
