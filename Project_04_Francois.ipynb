{
 "cells": [
  {
   "cell_type": "markdown",
   "id": "3d28644d-f73e-4c89-9b75-e46bcbe1bb41",
   "metadata": {},
   "source": [
    "# DSCI 503 – Project 04\n",
    "### Talaya Francois"
   ]
  },
  {
   "cell_type": "code",
   "execution_count": 1,
   "id": "1324cfe1-2968-4554-aa1f-0f2aff78d1f7",
   "metadata": {},
   "outputs": [],
   "source": [
    "import numpy as np\n",
    "import pandas as pd\n",
    "import matplotlib.pyplot as plt\n",
    "\n",
    "from sklearn.model_selection import train_test_split\n",
    "from sklearn.preprocessing import StandardScaler\n",
    "from sklearn.preprocessing import OneHotEncoder\n",
    "from sklearn.metrics import confusion_matrix, classification_report\n",
    "\n",
    "from sklearn.linear_model import LogisticRegression\n",
    "from sklearn.tree import DecisionTreeClassifier\n",
    "from sklearn.ensemble import RandomForestClassifier"
   ]
  },
  {
   "cell_type": "markdown",
   "id": "68fdbe05-7870-44a0-be4b-61cbcececfbc",
   "metadata": {},
   "source": [
    "## Part 1: Loading the Dataset; Preliminary Analysis\n",
    "In this section, we will look at the first 5 rows of the forest cover dataset, display the size of the dataset, figure out how many samples belong to each cover type, and create a color palette for visual representations in the project."
   ]
  },
  {
   "cell_type": "code",
   "execution_count": 2,
   "id": "305bbab2-2c38-419c-8371-c58f594628ff",
   "metadata": {},
   "outputs": [
    {
     "data": {
      "text/html": [
       "<div>\n",
       "<style scoped>\n",
       "    .dataframe tbody tr th:only-of-type {\n",
       "        vertical-align: middle;\n",
       "    }\n",
       "\n",
       "    .dataframe tbody tr th {\n",
       "        vertical-align: top;\n",
       "    }\n",
       "\n",
       "    .dataframe thead th {\n",
       "        text-align: right;\n",
       "    }\n",
       "</style>\n",
       "<table border=\"1\" class=\"dataframe\">\n",
       "  <thead>\n",
       "    <tr style=\"text-align: right;\">\n",
       "      <th></th>\n",
       "      <th>Elevation</th>\n",
       "      <th>Aspect</th>\n",
       "      <th>Slope</th>\n",
       "      <th>Horizontal_Distance_To_Hydrology</th>\n",
       "      <th>Vertical_Distance_To_Hydrology</th>\n",
       "      <th>Horizontal_Distance_To_Roadways</th>\n",
       "      <th>Hillshade_9am</th>\n",
       "      <th>Hillshade_Noon</th>\n",
       "      <th>Hillshade_3pm</th>\n",
       "      <th>Horizontal_Distance_To_Fire_Points</th>\n",
       "      <th>Wilderness_Area</th>\n",
       "      <th>Soil_Type</th>\n",
       "      <th>Cover_Type</th>\n",
       "    </tr>\n",
       "  </thead>\n",
       "  <tbody>\n",
       "    <tr>\n",
       "      <th>0</th>\n",
       "      <td>2596</td>\n",
       "      <td>51</td>\n",
       "      <td>3</td>\n",
       "      <td>258</td>\n",
       "      <td>0</td>\n",
       "      <td>510</td>\n",
       "      <td>221</td>\n",
       "      <td>232</td>\n",
       "      <td>148</td>\n",
       "      <td>6279</td>\n",
       "      <td>Rawah</td>\n",
       "      <td>29</td>\n",
       "      <td>5</td>\n",
       "    </tr>\n",
       "    <tr>\n",
       "      <th>1</th>\n",
       "      <td>2590</td>\n",
       "      <td>56</td>\n",
       "      <td>2</td>\n",
       "      <td>212</td>\n",
       "      <td>-6</td>\n",
       "      <td>390</td>\n",
       "      <td>220</td>\n",
       "      <td>235</td>\n",
       "      <td>151</td>\n",
       "      <td>6225</td>\n",
       "      <td>Rawah</td>\n",
       "      <td>29</td>\n",
       "      <td>5</td>\n",
       "    </tr>\n",
       "    <tr>\n",
       "      <th>2</th>\n",
       "      <td>2804</td>\n",
       "      <td>139</td>\n",
       "      <td>9</td>\n",
       "      <td>268</td>\n",
       "      <td>65</td>\n",
       "      <td>3180</td>\n",
       "      <td>234</td>\n",
       "      <td>238</td>\n",
       "      <td>135</td>\n",
       "      <td>6121</td>\n",
       "      <td>Rawah</td>\n",
       "      <td>12</td>\n",
       "      <td>2</td>\n",
       "    </tr>\n",
       "    <tr>\n",
       "      <th>3</th>\n",
       "      <td>2785</td>\n",
       "      <td>155</td>\n",
       "      <td>18</td>\n",
       "      <td>242</td>\n",
       "      <td>118</td>\n",
       "      <td>3090</td>\n",
       "      <td>238</td>\n",
       "      <td>238</td>\n",
       "      <td>122</td>\n",
       "      <td>6211</td>\n",
       "      <td>Rawah</td>\n",
       "      <td>30</td>\n",
       "      <td>2</td>\n",
       "    </tr>\n",
       "    <tr>\n",
       "      <th>4</th>\n",
       "      <td>2595</td>\n",
       "      <td>45</td>\n",
       "      <td>2</td>\n",
       "      <td>153</td>\n",
       "      <td>-1</td>\n",
       "      <td>391</td>\n",
       "      <td>220</td>\n",
       "      <td>234</td>\n",
       "      <td>150</td>\n",
       "      <td>6172</td>\n",
       "      <td>Rawah</td>\n",
       "      <td>29</td>\n",
       "      <td>5</td>\n",
       "    </tr>\n",
       "  </tbody>\n",
       "</table>\n",
       "</div>"
      ],
      "text/plain": [
       "   Elevation  Aspect  Slope  Horizontal_Distance_To_Hydrology  \\\n",
       "0       2596      51      3                               258   \n",
       "1       2590      56      2                               212   \n",
       "2       2804     139      9                               268   \n",
       "3       2785     155     18                               242   \n",
       "4       2595      45      2                               153   \n",
       "\n",
       "   Vertical_Distance_To_Hydrology  Horizontal_Distance_To_Roadways  \\\n",
       "0                               0                              510   \n",
       "1                              -6                              390   \n",
       "2                              65                             3180   \n",
       "3                             118                             3090   \n",
       "4                              -1                              391   \n",
       "\n",
       "   Hillshade_9am  Hillshade_Noon  Hillshade_3pm  \\\n",
       "0            221             232            148   \n",
       "1            220             235            151   \n",
       "2            234             238            135   \n",
       "3            238             238            122   \n",
       "4            220             234            150   \n",
       "\n",
       "   Horizontal_Distance_To_Fire_Points Wilderness_Area  Soil_Type  Cover_Type  \n",
       "0                                6279           Rawah         29           5  \n",
       "1                                6225           Rawah         29           5  \n",
       "2                                6121           Rawah         12           2  \n",
       "3                                6211           Rawah         30           2  \n",
       "4                                6172           Rawah         29           5  "
      ]
     },
     "execution_count": 2,
     "metadata": {},
     "output_type": "execute_result"
    }
   ],
   "source": [
    "fc = pd.read_csv('forest_cover.txt', sep='\\t') \n",
    "fc.head()"
   ]
  },
  {
   "cell_type": "markdown",
   "id": "3986e9bf-ac9b-497b-8fb6-eeadc392efc4",
   "metadata": {},
   "source": [
    "We will determine the size of the dataset."
   ]
  },
  {
   "cell_type": "code",
   "execution_count": 3,
   "id": "8a9a2b40-ce19-4883-8a19-1c674fa626c6",
   "metadata": {},
   "outputs": [
    {
     "name": "stdout",
     "output_type": "stream",
     "text": [
      "(15120, 13)\n"
     ]
    }
   ],
   "source": [
    "print(fc.shape)"
   ]
  },
  {
   "cell_type": "markdown",
   "id": "4032b8b8-f587-4279-a87d-59c4254b9ab0",
   "metadata": {},
   "source": [
    "We will now explore the distribution of cover types in the data set."
   ]
  },
  {
   "cell_type": "code",
   "execution_count": 4,
   "id": "72a2f6e5-c8f1-4dc4-81b0-befc952d2e44",
   "metadata": {},
   "outputs": [
    {
     "data": {
      "text/plain": [
       "Cover_Type\n",
       "1    2160\n",
       "2    2160\n",
       "3    2160\n",
       "4    2160\n",
       "5    2160\n",
       "6    2160\n",
       "7    2160\n",
       "Name: count, dtype: int64"
      ]
     },
     "execution_count": 4,
     "metadata": {},
     "output_type": "execute_result"
    }
   ],
   "source": [
    "fc.loc[:, 'Cover_Type'].value_counts().sort_index()"
   ]
  },
  {
   "cell_type": "markdown",
   "id": "cd10c87d-3d52-479a-9654-5438fa8c107c",
   "metadata": {},
   "source": [
    "In the next cell we will create a color palette to use to visualize the data later on.  "
   ]
  },
  {
   "cell_type": "code",
   "execution_count": 5,
   "id": "c1402b27-d96b-48a4-a2bc-0662c4e24fe6",
   "metadata": {},
   "outputs": [],
   "source": [
    "palette = ['orchid', 'lightcoral', 'orange', 'gold', 'lightgreen', 'deepskyblue', 'cornflowerblue']"
   ]
  },
  {
   "cell_type": "markdown",
   "id": "695b1d47-02b0-405b-b795-6b2cb106356c",
   "metadata": {},
   "source": [
    "## Part 2: Distribution of Cover Type by Wilderness Area\n",
    "In this section, we will create a DataFrame to store the data for the distribution of cover type by wilderness area. Then we will graph this data in a stacked bar chart. We will start by determining the distribution of the wilderness areas within our dataset. "
   ]
  },
  {
   "cell_type": "code",
   "execution_count": 6,
   "id": "cdf2127f-6c1d-4072-a121-bbf0e68cdb59",
   "metadata": {},
   "outputs": [
    {
     "data": {
      "text/plain": [
       "Wilderness_Area\n",
       "Cache la Poudre    4675\n",
       "Comanche Peak      6349\n",
       "Neota               499\n",
       "Rawah              3597\n",
       "Name: count, dtype: int64"
      ]
     },
     "execution_count": 6,
     "metadata": {},
     "output_type": "execute_result"
    }
   ],
   "source": [
    "fc.loc[:, 'Wilderness_Area'].value_counts().sort_index()"
   ]
  },
  {
   "cell_type": "markdown",
   "id": "644e69ef-a33b-4ce5-8c39-48f160342042",
   "metadata": {},
   "source": [
    "We will create a DataFrame to determine the how many regions of each cover type are in each of the four wilderness areas."
   ]
  },
  {
   "cell_type": "code",
   "execution_count": 7,
   "id": "74d8f761-0ed6-4dbd-9f4a-a6459a58333f",
   "metadata": {},
   "outputs": [
    {
     "data": {
      "text/html": [
       "<div>\n",
       "<style scoped>\n",
       "    .dataframe tbody tr th:only-of-type {\n",
       "        vertical-align: middle;\n",
       "    }\n",
       "\n",
       "    .dataframe tbody tr th {\n",
       "        vertical-align: top;\n",
       "    }\n",
       "\n",
       "    .dataframe thead th {\n",
       "        text-align: right;\n",
       "    }\n",
       "</style>\n",
       "<table border=\"1\" class=\"dataframe\">\n",
       "  <thead>\n",
       "    <tr style=\"text-align: right;\">\n",
       "      <th>Wilderness_Area</th>\n",
       "      <th>Cache la Poudre</th>\n",
       "      <th>Comanche Peak</th>\n",
       "      <th>Neota</th>\n",
       "      <th>Rawah</th>\n",
       "    </tr>\n",
       "    <tr>\n",
       "      <th>Cover_Type</th>\n",
       "      <th></th>\n",
       "      <th></th>\n",
       "      <th></th>\n",
       "      <th></th>\n",
       "    </tr>\n",
       "  </thead>\n",
       "  <tbody>\n",
       "    <tr>\n",
       "      <th>1</th>\n",
       "      <td>0</td>\n",
       "      <td>917</td>\n",
       "      <td>181</td>\n",
       "      <td>1062</td>\n",
       "    </tr>\n",
       "    <tr>\n",
       "      <th>2</th>\n",
       "      <td>20</td>\n",
       "      <td>940</td>\n",
       "      <td>66</td>\n",
       "      <td>1134</td>\n",
       "    </tr>\n",
       "    <tr>\n",
       "      <th>3</th>\n",
       "      <td>1297</td>\n",
       "      <td>863</td>\n",
       "      <td>0</td>\n",
       "      <td>0</td>\n",
       "    </tr>\n",
       "    <tr>\n",
       "      <th>4</th>\n",
       "      <td>2160</td>\n",
       "      <td>0</td>\n",
       "      <td>0</td>\n",
       "      <td>0</td>\n",
       "    </tr>\n",
       "    <tr>\n",
       "      <th>5</th>\n",
       "      <td>0</td>\n",
       "      <td>1304</td>\n",
       "      <td>0</td>\n",
       "      <td>856</td>\n",
       "    </tr>\n",
       "    <tr>\n",
       "      <th>6</th>\n",
       "      <td>1198</td>\n",
       "      <td>962</td>\n",
       "      <td>0</td>\n",
       "      <td>0</td>\n",
       "    </tr>\n",
       "    <tr>\n",
       "      <th>7</th>\n",
       "      <td>0</td>\n",
       "      <td>1363</td>\n",
       "      <td>252</td>\n",
       "      <td>545</td>\n",
       "    </tr>\n",
       "  </tbody>\n",
       "</table>\n",
       "</div>"
      ],
      "text/plain": [
       "Wilderness_Area  Cache la Poudre  Comanche Peak  Neota  Rawah\n",
       "Cover_Type                                                   \n",
       "1                              0            917    181   1062\n",
       "2                             20            940     66   1134\n",
       "3                           1297            863      0      0\n",
       "4                           2160              0      0      0\n",
       "5                              0           1304      0    856\n",
       "6                           1198            962      0      0\n",
       "7                              0           1363    252    545"
      ]
     },
     "execution_count": 7,
     "metadata": {},
     "output_type": "execute_result"
    }
   ],
   "source": [
    "ct_by_wa = pd.crosstab(fc['Cover_Type'], fc['Wilderness_Area'])\n",
    "ct_by_wa"
   ]
  },
  {
   "cell_type": "markdown",
   "id": "c603c963-f477-47e6-9a83-97031c9e8afd",
   "metadata": {},
   "source": [
    "Next, we will create a stacked bar chart to represent the cover type by wilderness area. The chart represents information from the DataFrame we created in the cell above."
   ]
  },
  {
   "cell_type": "code",
   "execution_count": 8,
   "id": "4d685f9f-19aa-4a03-b467-5b989241f3f6",
   "metadata": {},
   "outputs": [
    {
     "data": {
      "image/png": "[encoded data removed]",
      "text/plain": [
       "<Figure size 800x400 with 1 Axes>"
      ]
     },
     "metadata": {},
     "output_type": "display_data"
    }
   ],
   "source": [
    "ct_by_wa_props = ct_by_wa / ct_by_wa.sum()\n",
    "bb = np.cumsum(ct_by_wa_props) - ct_by_wa_props\n",
    "\n",
    "plt.figure(figsize=[8, 4])\n",
    "\n",
    "# Loop over rows \n",
    "for i in range(len(ct_by_wa_props)):\n",
    "    # Row data\n",
    "    heights = ct_by_wa_props.iloc[i]\n",
    "    bottoms = bb.iloc[i]\n",
    "    color = palette[i]\n",
    "    ct_label = ct_by_wa_props.index[i]\n",
    "\n",
    "    # Plot bar layer\n",
    "    plt.bar(ct_by_wa_props.columns, heights, bottom=bottoms,              \n",
    "            color=color, edgecolor='black', label=ct_label)\n",
    "\n",
    "plt.xlabel(\"Wilderness Area\")\n",
    "plt.ylabel(\"Proportion\")\n",
    "plt.title(\"Distribution of Cover Type by Wilderness Area\")\n",
    "\n",
    "plt.legend(title=\"Cover Type\", bbox_to_anchor=(1.2, 1), loc=\"upper right\")\n",
    "\n",
    "plt.tight_layout()\n",
    "plt.show()"
   ]
  },
  {
   "cell_type": "markdown",
   "id": "bd3cf0fd-eca4-4ba7-b00c-b130339ef805",
   "metadata": {},
   "source": [
    "## Part 3: Distribution of Cover Type by Soil Type\n",
    "In this section, we will create a DataFrame to store the data for the distribution of cover type by soil type. Then we will graph this data in a stacked bar chart. We will start by creating a DataFrame to determine the number of regions of each cover type there are for each of the 40 soil types. "
   ]
  },
  {
   "cell_type": "code",
   "execution_count": 9,
   "id": "e1ef04c1-574d-4f2b-b4f3-cc76591054ed",
   "metadata": {},
   "outputs": [
    {
     "data": {
      "text/html": [
       "<div>\n",
       "<style scoped>\n",
       "    .dataframe tbody tr th:only-of-type {\n",
       "        vertical-align: middle;\n",
       "    }\n",
       "\n",
       "    .dataframe tbody tr th {\n",
       "        vertical-align: top;\n",
       "    }\n",
       "\n",
       "    .dataframe thead th {\n",
       "        text-align: right;\n",
       "    }\n",
       "</style>\n",
       "<table border=\"1\" class=\"dataframe\">\n",
       "  <thead>\n",
       "    <tr style=\"text-align: right;\">\n",
       "      <th>Soil_Type</th>\n",
       "      <th>1</th>\n",
       "      <th>2</th>\n",
       "      <th>3</th>\n",
       "      <th>4</th>\n",
       "      <th>5</th>\n",
       "      <th>6</th>\n",
       "      <th>8</th>\n",
       "      <th>9</th>\n",
       "      <th>10</th>\n",
       "      <th>11</th>\n",
       "      <th>...</th>\n",
       "      <th>31</th>\n",
       "      <th>32</th>\n",
       "      <th>33</th>\n",
       "      <th>34</th>\n",
       "      <th>35</th>\n",
       "      <th>36</th>\n",
       "      <th>37</th>\n",
       "      <th>38</th>\n",
       "      <th>39</th>\n",
       "      <th>40</th>\n",
       "    </tr>\n",
       "    <tr>\n",
       "      <th>Cover_Type</th>\n",
       "      <th></th>\n",
       "      <th></th>\n",
       "      <th></th>\n",
       "      <th></th>\n",
       "      <th></th>\n",
       "      <th></th>\n",
       "      <th></th>\n",
       "      <th></th>\n",
       "      <th></th>\n",
       "      <th></th>\n",
       "      <th></th>\n",
       "      <th></th>\n",
       "      <th></th>\n",
       "      <th></th>\n",
       "      <th></th>\n",
       "      <th></th>\n",
       "      <th></th>\n",
       "      <th></th>\n",
       "      <th></th>\n",
       "      <th></th>\n",
       "      <th></th>\n",
       "    </tr>\n",
       "  </thead>\n",
       "  <tbody>\n",
       "    <tr>\n",
       "      <th>1</th>\n",
       "      <td>0</td>\n",
       "      <td>0</td>\n",
       "      <td>0</td>\n",
       "      <td>5</td>\n",
       "      <td>0</td>\n",
       "      <td>0</td>\n",
       "      <td>0</td>\n",
       "      <td>1</td>\n",
       "      <td>9</td>\n",
       "      <td>5</td>\n",
       "      <td>...</td>\n",
       "      <td>114</td>\n",
       "      <td>230</td>\n",
       "      <td>184</td>\n",
       "      <td>0</td>\n",
       "      <td>3</td>\n",
       "      <td>0</td>\n",
       "      <td>0</td>\n",
       "      <td>80</td>\n",
       "      <td>79</td>\n",
       "      <td>49</td>\n",
       "    </tr>\n",
       "    <tr>\n",
       "      <th>2</th>\n",
       "      <td>0</td>\n",
       "      <td>3</td>\n",
       "      <td>12</td>\n",
       "      <td>20</td>\n",
       "      <td>0</td>\n",
       "      <td>7</td>\n",
       "      <td>1</td>\n",
       "      <td>9</td>\n",
       "      <td>81</td>\n",
       "      <td>67</td>\n",
       "      <td>...</td>\n",
       "      <td>97</td>\n",
       "      <td>255</td>\n",
       "      <td>184</td>\n",
       "      <td>12</td>\n",
       "      <td>1</td>\n",
       "      <td>2</td>\n",
       "      <td>0</td>\n",
       "      <td>7</td>\n",
       "      <td>3</td>\n",
       "      <td>3</td>\n",
       "    </tr>\n",
       "    <tr>\n",
       "      <th>3</th>\n",
       "      <td>121</td>\n",
       "      <td>283</td>\n",
       "      <td>133</td>\n",
       "      <td>462</td>\n",
       "      <td>55</td>\n",
       "      <td>248</td>\n",
       "      <td>0</td>\n",
       "      <td>0</td>\n",
       "      <td>717</td>\n",
       "      <td>89</td>\n",
       "      <td>...</td>\n",
       "      <td>0</td>\n",
       "      <td>5</td>\n",
       "      <td>0</td>\n",
       "      <td>0</td>\n",
       "      <td>0</td>\n",
       "      <td>0</td>\n",
       "      <td>0</td>\n",
       "      <td>0</td>\n",
       "      <td>0</td>\n",
       "      <td>0</td>\n",
       "    </tr>\n",
       "    <tr>\n",
       "      <th>4</th>\n",
       "      <td>139</td>\n",
       "      <td>94</td>\n",
       "      <td>799</td>\n",
       "      <td>133</td>\n",
       "      <td>39</td>\n",
       "      <td>244</td>\n",
       "      <td>0</td>\n",
       "      <td>0</td>\n",
       "      <td>170</td>\n",
       "      <td>24</td>\n",
       "      <td>...</td>\n",
       "      <td>0</td>\n",
       "      <td>0</td>\n",
       "      <td>0</td>\n",
       "      <td>0</td>\n",
       "      <td>0</td>\n",
       "      <td>0</td>\n",
       "      <td>0</td>\n",
       "      <td>0</td>\n",
       "      <td>0</td>\n",
       "      <td>0</td>\n",
       "    </tr>\n",
       "    <tr>\n",
       "      <th>5</th>\n",
       "      <td>0</td>\n",
       "      <td>61</td>\n",
       "      <td>0</td>\n",
       "      <td>129</td>\n",
       "      <td>0</td>\n",
       "      <td>0</td>\n",
       "      <td>0</td>\n",
       "      <td>0</td>\n",
       "      <td>64</td>\n",
       "      <td>154</td>\n",
       "      <td>...</td>\n",
       "      <td>87</td>\n",
       "      <td>100</td>\n",
       "      <td>115</td>\n",
       "      <td>4</td>\n",
       "      <td>0</td>\n",
       "      <td>0</td>\n",
       "      <td>0</td>\n",
       "      <td>0</td>\n",
       "      <td>0</td>\n",
       "      <td>0</td>\n",
       "    </tr>\n",
       "    <tr>\n",
       "      <th>6</th>\n",
       "      <td>95</td>\n",
       "      <td>182</td>\n",
       "      <td>18</td>\n",
       "      <td>87</td>\n",
       "      <td>71</td>\n",
       "      <td>151</td>\n",
       "      <td>0</td>\n",
       "      <td>0</td>\n",
       "      <td>1101</td>\n",
       "      <td>67</td>\n",
       "      <td>...</td>\n",
       "      <td>7</td>\n",
       "      <td>30</td>\n",
       "      <td>66</td>\n",
       "      <td>2</td>\n",
       "      <td>0</td>\n",
       "      <td>0</td>\n",
       "      <td>0</td>\n",
       "      <td>0</td>\n",
       "      <td>0</td>\n",
       "      <td>0</td>\n",
       "    </tr>\n",
       "    <tr>\n",
       "      <th>7</th>\n",
       "      <td>0</td>\n",
       "      <td>0</td>\n",
       "      <td>0</td>\n",
       "      <td>7</td>\n",
       "      <td>0</td>\n",
       "      <td>0</td>\n",
       "      <td>0</td>\n",
       "      <td>0</td>\n",
       "      <td>0</td>\n",
       "      <td>0</td>\n",
       "      <td>...</td>\n",
       "      <td>27</td>\n",
       "      <td>70</td>\n",
       "      <td>67</td>\n",
       "      <td>4</td>\n",
       "      <td>98</td>\n",
       "      <td>8</td>\n",
       "      <td>34</td>\n",
       "      <td>641</td>\n",
       "      <td>575</td>\n",
       "      <td>407</td>\n",
       "    </tr>\n",
       "  </tbody>\n",
       "</table>\n",
       "<p>7 rows × 38 columns</p>\n",
       "</div>"
      ],
      "text/plain": [
       "Soil_Type    1    2    3    4   5    6   8   9     10   11  ...   31   32  \\\n",
       "Cover_Type                                                  ...             \n",
       "1             0    0    0    5   0    0   0   1     9    5  ...  114  230   \n",
       "2             0    3   12   20   0    7   1   9    81   67  ...   97  255   \n",
       "3           121  283  133  462  55  248   0   0   717   89  ...    0    5   \n",
       "4           139   94  799  133  39  244   0   0   170   24  ...    0    0   \n",
       "5             0   61    0  129   0    0   0   0    64  154  ...   87  100   \n",
       "6            95  182   18   87  71  151   0   0  1101   67  ...    7   30   \n",
       "7             0    0    0    7   0    0   0   0     0    0  ...   27   70   \n",
       "\n",
       "Soil_Type    33  34  35  36  37   38   39   40  \n",
       "Cover_Type                                      \n",
       "1           184   0   3   0   0   80   79   49  \n",
       "2           184  12   1   2   0    7    3    3  \n",
       "3             0   0   0   0   0    0    0    0  \n",
       "4             0   0   0   0   0    0    0    0  \n",
       "5           115   4   0   0   0    0    0    0  \n",
       "6            66   2   0   0   0    0    0    0  \n",
       "7            67   4  98   8  34  641  575  407  \n",
       "\n",
       "[7 rows x 38 columns]"
      ]
     },
     "execution_count": 9,
     "metadata": {},
     "output_type": "execute_result"
    }
   ],
   "source": [
    "ct_by_st = pd.crosstab(fc['Cover_Type'], fc['Soil_Type'])\n",
    "ct_by_st"
   ]
  },
  {
   "cell_type": "raw",
   "id": "cf9347bf-8eaa-4a33-84eb-e37e1cda7bd6",
   "metadata": {},
   "source": [
    "We will create a stacked bar chart to visually represent the distribution of cover type by soil type using data from the DataFrame in the cell above."
   ]
  },
  {
   "cell_type": "code",
   "execution_count": 10,
   "id": "9e9e480e-0160-425e-946b-169c4ff67aed",
   "metadata": {},
   "outputs": [
    {
     "data": {
      "image/png": "[encoded data removed]",
      "text/plain": [
       "<Figure size 1200x600 with 1 Axes>"
      ]
     },
     "metadata": {},
     "output_type": "display_data"
    }
   ],
   "source": [
    "ct_by_st_props = ct_by_st / ct_by_st.sum()\n",
    "bb = np.cumsum(ct_by_st_props) - ct_by_st_props\n",
    "\n",
    "plt.figure(figsize=[12, 6])\n",
    "\n",
    "for i in range(len(ct_by_st_props)):\n",
    "    \n",
    "    heights = ct_by_st_props.iloc[i]\n",
    "    bottoms = bb.iloc[i]\n",
    "    color = palette[i]\n",
    "    ct_label2 = ct_by_st_props.index[i]\n",
    "\n",
    "    # Plot bar layer\n",
    "    plt.bar(ct_by_st_props.columns, heights, bottom=bottoms,              \n",
    "            color=color, edgecolor='black', label=ct_label2)\n",
    "\n",
    "plt.xlabel(\"Soil Type\")\n",
    "plt.ylabel(\"Proportion\")\n",
    "plt.title(\"Distribution of Cover Type by Soil Type\")\n",
    "\n",
    "plt.legend(title=\"Cover Type\", bbox_to_anchor=(1.2, 1), loc=\"upper right\")\n",
    "\n",
    "plt.tight_layout()\n",
    "plt.show()"
   ]
  },
  {
   "cell_type": "markdown",
   "id": "30e1a13d-f3a6-424f-b936-48dcc4bfe851",
   "metadata": {},
   "source": [
    "## Part 4: Distribution of Elevation by Cover Type\n",
    "In this section, we we create a DataFrame to analyze how elevation is distributed across different cover types. Then we graph this DataFrame in a series of histograms. We will start by calculating the average elevation for each of the seven cover types."
   ]
  },
  {
   "cell_type": "code",
   "execution_count": 11,
   "id": "ed7366d4-7cf4-4c2a-af26-9a42bc62d345",
   "metadata": {
    "scrolled": true
   },
   "outputs": [
    {
     "data": {
      "text/html": [
       "<div>\n",
       "<style scoped>\n",
       "    .dataframe tbody tr th:only-of-type {\n",
       "        vertical-align: middle;\n",
       "    }\n",
       "\n",
       "    .dataframe tbody tr th {\n",
       "        vertical-align: top;\n",
       "    }\n",
       "\n",
       "    .dataframe thead th {\n",
       "        text-align: right;\n",
       "    }\n",
       "</style>\n",
       "<table border=\"1\" class=\"dataframe\">\n",
       "  <thead>\n",
       "    <tr style=\"text-align: right;\">\n",
       "      <th></th>\n",
       "      <th>Elevation</th>\n",
       "    </tr>\n",
       "    <tr>\n",
       "      <th>Cover_Type</th>\n",
       "      <th></th>\n",
       "    </tr>\n",
       "  </thead>\n",
       "  <tbody>\n",
       "    <tr>\n",
       "      <th>1</th>\n",
       "      <td>3128.025926</td>\n",
       "    </tr>\n",
       "    <tr>\n",
       "      <th>2</th>\n",
       "      <td>2922.540278</td>\n",
       "    </tr>\n",
       "    <tr>\n",
       "      <th>3</th>\n",
       "      <td>2398.423148</td>\n",
       "    </tr>\n",
       "    <tr>\n",
       "      <th>4</th>\n",
       "      <td>2223.420370</td>\n",
       "    </tr>\n",
       "    <tr>\n",
       "      <th>5</th>\n",
       "      <td>2786.801389</td>\n",
       "    </tr>\n",
       "    <tr>\n",
       "      <th>6</th>\n",
       "      <td>2423.276852</td>\n",
       "    </tr>\n",
       "    <tr>\n",
       "      <th>7</th>\n",
       "      <td>3362.769907</td>\n",
       "    </tr>\n",
       "  </tbody>\n",
       "</table>\n",
       "</div>"
      ],
      "text/plain": [
       "              Elevation\n",
       "Cover_Type             \n",
       "1           3128.025926\n",
       "2           2922.540278\n",
       "3           2398.423148\n",
       "4           2223.420370\n",
       "5           2786.801389\n",
       "6           2423.276852\n",
       "7           3362.769907"
      ]
     },
     "execution_count": 11,
     "metadata": {},
     "output_type": "execute_result"
    }
   ],
   "source": [
    "mean_elevation = (fc.loc[:, ['Elevation', 'Cover_Type']]\n",
    "                  .groupby('Cover_Type')\n",
    "                  .mean()\n",
    "                 )\n",
    "mean_elevation"
   ]
  },
  {
   "cell_type": "markdown",
   "id": "144f8a04-aec4-43ea-beac-9ad5fed6a7d3",
   "metadata": {},
   "source": [
    "We will create histograms to visually explore the distribution of elevations for each of the seven cover types. "
   ]
  },
  {
   "cell_type": "code",
   "execution_count": 12,
   "id": "d088c285-28bb-4c6b-bec9-73f3a66b27e1",
   "metadata": {},
   "outputs": [
    {
     "data": {
      "image/png": "[encoded data removed]",
      "text/plain": [
       "<Figure size 1200x600 with 7 Axes>"
      ]
     },
     "metadata": {},
     "output_type": "display_data"
    }
   ],
   "source": [
    "plt.figure(figsize=[12, 6])\n",
    "bins=np.arange(1800, 4050, 50)\n",
    "\n",
    "for i in range(1, 8):\n",
    "   \n",
    "    plt.subplot(2, 4, i)\n",
    "             \n",
    "    x_axis = fc[fc['Cover_Type'] == i]['Elevation']                      \n",
    "\n",
    "    plt.hist(x_axis, color=palette[i-1], edgecolor='black')\n",
    "\n",
    "    plt.title(f\"Cover Type {i}\")\n",
    "    plt.xlim(1800,4000)\n",
    "    plt.ylim(0,600)\n",
    "    plt.xlabel('Elevation')\n",
    "    plt.ylabel('Count')\n",
    "\n",
    "plt.tight_layout()\n",
    "plt.show()"
   ]
  },
  {
   "cell_type": "markdown",
   "id": "825b43cf-9489-4dc1-a462-5df41ca4a3f8",
   "metadata": {},
   "source": [
    "## Part 5: Creating Training, Validation, and Test Sets\n",
    "In this section, we prepare the data for the machine learning models in the project. We will start by separating the categorical features, the numerical features, and the labels. We will also use one hot encoding for the categorical features and explore the shapes of the feature arrays. "
   ]
  },
  {
   "cell_type": "code",
   "execution_count": 13,
   "id": "324eca4e-0762-468f-a80f-b0c0dd6ba276",
   "metadata": {},
   "outputs": [
    {
     "name": "stdout",
     "output_type": "stream",
     "text": [
      "Numerical Feature Array Shape:   (15120, 10)\n",
      "Categorical Feature Array Shape: (15120, 2)\n",
      "Label Array Shape:               (15120,)\n"
     ]
    }
   ],
   "source": [
    "X_num = (fc.loc[:, ['Elevation',\n",
    "                    'Aspect',\n",
    "                    'Slope', \n",
    "                    'Horizontal_Distance_To_Hydrology',\n",
    "                    'Vertical_Distance_To_Hydrology',\n",
    "                    'Horizontal_Distance_To_Roadways',\n",
    "                    'Hillshade_9am',\n",
    "                    'Hillshade_Noon',\n",
    "                    'Hillshade_3pm',\n",
    "                    'Horizontal_Distance_To_Fire_Points']].values \n",
    "        )\n",
    "\n",
    "X_cat = fc.loc[:, ['Wilderness_Area', 'Soil_Type']].values\n",
    "y = fc.loc[:, 'Cover_Type']\n",
    "print(f\"Numerical Feature Array Shape:   {X_num.shape}\")\n",
    "print(f\"Categorical Feature Array Shape: {X_cat.shape}\")\n",
    "print(f\"Label Array Shape:               {y.shape}\")"
   ]
  },
  {
   "cell_type": "markdown",
   "id": "a1d0d6f4-6dfa-4c8f-8f4b-b65673920a19",
   "metadata": {},
   "source": [
    "We will now be encoding the categorical variables using one-hot encoding."
   ]
  },
  {
   "cell_type": "code",
   "execution_count": 14,
   "id": "73061348-8b3c-4534-9b53-16a16efbfb55",
   "metadata": {},
   "outputs": [
    {
     "name": "stdout",
     "output_type": "stream",
     "text": [
      "Encoded Feature Array Shape: (15120, 42)\n"
     ]
    }
   ],
   "source": [
    "encoder = OneHotEncoder(sparse_output=False) \n",
    "encoder.fit(X_cat)\n",
    "X_enc = encoder.transform(X_cat)\n",
    "print(f\"Encoded Feature Array Shape: {X_enc.shape}\")"
   ]
  },
  {
   "cell_type": "markdown",
   "id": "e337fb7c-ab1f-43f5-98c9-b680de8efc91",
   "metadata": {},
   "source": [
    "We will now combine the numerical features with the encoded features."
   ]
  },
  {
   "cell_type": "code",
   "execution_count": 15,
   "id": "2184909e-76b9-4c9f-ab79-334f180670b5",
   "metadata": {},
   "outputs": [
    {
     "name": "stdout",
     "output_type": "stream",
     "text": [
      "Feature Array Shape: (15120, 52)\n"
     ]
    }
   ],
   "source": [
    "X = np.hstack([X_num, X_enc])\n",
    "print(f\"Feature Array Shape: {X.shape}\")"
   ]
  },
  {
   "cell_type": "markdown",
   "id": "d7cf5bdf-11ef-4b65-a2a0-ea61168b8cf8",
   "metadata": {},
   "source": [
    "We will now split the data into training, validation, and test sets, using a 70/15/15 split."
   ]
  },
  {
   "cell_type": "code",
   "execution_count": 16,
   "id": "729db369-5911-4248-9b89-fd2bb89a30b7",
   "metadata": {},
   "outputs": [
    {
     "name": "stdout",
     "output_type": "stream",
     "text": [
      "Training Features Shape:   (10584, 52)\n",
      "Validation Features Shape: (2268, 52)\n",
      "Test Features Shape:       (2268, 52)\n"
     ]
    }
   ],
   "source": [
    "X_train, X_hold, y_train, y_hold = train_test_split(X, y, test_size=0.3, random_state=1, stratify=y) \n",
    "X_valid, X_test, y_valid, y_test = train_test_split(X_hold, y_hold, test_size=0.5, random_state=1, stratify=y_hold)\n",
    "\n",
    "print(f\"Training Features Shape:   {X_train.shape}\")\n",
    "print(f\"Validation Features Shape: {X_valid.shape}\")\n",
    "print(f\"Test Features Shape:       {X_test.shape}\")"
   ]
  },
  {
   "cell_type": "markdown",
   "id": "d3b35e9f-a361-46c7-b05c-ab531df56a61",
   "metadata": {},
   "source": [
    "## Part 6: Logistic Regression Model\n",
    "We will start by scaling the data. The Logistic Regression model will be fit to the scaled data, and we will then display the model's training and validation accuracy."
   ]
  },
  {
   "cell_type": "code",
   "execution_count": 17,
   "id": "2ca47efb-c274-41e4-9b3b-aaaafcdc0986",
   "metadata": {},
   "outputs": [
    {
     "name": "stderr",
     "output_type": "stream",
     "text": [
      "C:\\Users\\talay\\anaconda3\\Lib\\site-packages\\sklearn\\linear_model\\_logistic.py:1247: FutureWarning: 'multi_class' was deprecated in version 1.5 and will be removed in 1.7. From then on, it will always use 'multinomial'. Leave it to its default value to avoid this warning.\n",
      "  warnings.warn(\n",
      "C:\\Users\\talay\\anaconda3\\Lib\\site-packages\\sklearn\\linear_model\\_logistic.py:1247: FutureWarning: 'multi_class' was deprecated in version 1.5 and will be removed in 1.7. From then on, it will always use 'multinomial'. Leave it to its default value to avoid this warning.\n",
      "  warnings.warn(\n"
     ]
    },
    {
     "name": "stdout",
     "output_type": "stream",
     "text": [
      "Training Accuracy:    0.308\n",
      "Validation Accuracy:  0.2954\n"
     ]
    },
    {
     "name": "stderr",
     "output_type": "stream",
     "text": [
      "C:\\Users\\talay\\anaconda3\\Lib\\site-packages\\sklearn\\linear_model\\_logistic.py:469: ConvergenceWarning: lbfgs failed to converge (status=1):\n",
      "STOP: TOTAL NO. of ITERATIONS REACHED LIMIT.\n",
      "\n",
      "Increase the number of iterations (max_iter) or scale the data as shown in:\n",
      "    https://scikit-learn.org/stable/modules/preprocessing.html\n",
      "Please also refer to the documentation for alternative solver options:\n",
      "    https://scikit-learn.org/stable/modules/linear_model.html#logistic-regression\n",
      "  n_iter_i = _check_optimize_result(\n"
     ]
    }
   ],
   "source": [
    "scaler = StandardScaler()\n",
    "X_train_scaled = scaler.fit_transform(X_train)\n",
    "X_valid_scaled = scaler.fit_transform(X_valid)\n",
    "\n",
    "lr_mod = LogisticRegression(solver='lbfgs', max_iter=1000, multi_class='multinomial', penalty=None)\n",
    "lr_mod.fit(X_train_scaled, y_train)\n",
    "\n",
    "lr_mod.fit(X_train, y_train)\n",
    "train_acc = lr_mod.score(X_train_scaled, y_train)\n",
    "valid_acc = lr_mod.score(X_valid_scaled, y_valid)\n",
    "print('Training Accuracy:   ', round(train_acc,4))\n",
    "print('Validation Accuracy: ', round(valid_acc,4))"
   ]
  },
  {
   "cell_type": "markdown",
   "id": "7b8d5789-ccdb-482f-933e-e9eb48c604ee",
   "metadata": {},
   "source": [
    "## Part 7: Decision Tree Models\n",
    "In this section, we will create and evaluate several decision tree models. The code will perform hyperperameter tuning to calculate the most effective depth value for the decision trees. Lastly, we will graph the relationship between the decision tree accuracy and max_depth values."
   ]
  },
  {
   "cell_type": "code",
   "execution_count": 18,
   "id": "9c7e08c2-d23b-40df-bf12-8713fba8a53b",
   "metadata": {},
   "outputs": [
    {
     "name": "stdout",
     "output_type": "stream",
     "text": [
      "Optimal Value of max_depth:            18\n",
      "Training Accuracy for Optimal Model:   0.9804\n",
      "Validation Accuracy for Optimal Model: 0.772\n"
     ]
    }
   ],
   "source": [
    "dt_train_acc = []\n",
    "dt_valid_acc = []\n",
    "\n",
    "depth_range = range(2, 30)\n",
    "\n",
    "for d in depth_range:\n",
    "    np.random.seed(1)\n",
    "    temp_tree = DecisionTreeClassifier(max_depth=d, random_state=1)\n",
    "    temp_tree.fit(X_train, y_train)\n",
    "    dt_train_acc.append(temp_tree.score(X_train, y_train))\n",
    "    dt_valid_acc.append(temp_tree.score(X_valid, y_valid))\n",
    "\n",
    "dt_idx = np.argmax(dt_valid_acc)\n",
    "dt_opt_depth = depth_range[dt_idx]\n",
    "\n",
    "print('Optimal Value of max_depth:           ', round(dt_opt_depth, 4))\n",
    "print('Training Accuracy for Optimal Model:  ', round(dt_train_acc[dt_idx], 4))\n",
    "print('Validation Accuracy for Optimal Model:', round(dt_valid_acc[dt_idx], 4))"
   ]
  },
  {
   "cell_type": "markdown",
   "id": "fa7eccb1-cb9e-4f25-949c-791542d30127",
   "metadata": {},
   "source": [
    "We will plot the training and validation curves as a function of max_depth."
   ]
  },
  {
   "cell_type": "code",
   "execution_count": 19,
   "id": "8df37d8d-e327-4a4b-b156-acfd692f4aff",
   "metadata": {},
   "outputs": [
    {
     "data": {
      "image/png": "[encoded data removed]",
      "text/plain": [
       "<Figure size 640x480 with 1 Axes>"
      ]
     },
     "metadata": {},
     "output_type": "display_data"
    }
   ],
   "source": [
    "plt.plot(depth_range, dt_train_acc, label='Training')\n",
    "plt.plot(depth_range, dt_valid_acc, lw=2, label='Validation')\n",
    "\n",
    "plt.legend()\n",
    "plt.xlabel('Max Depth')\n",
    "plt.ylabel('Accuracy')\n",
    "plt.title('Decision Tree Accuracy vs. Max Depth')\n",
    "plt.show()"
   ]
  },
  {
   "cell_type": "markdown",
   "id": "7d51f2fe-b6d0-45d5-b338-ed4e096c1627",
   "metadata": {},
   "source": [
    "## Part 8: Random Forest Models\n",
    "In this section, we will create and evaluate several random forest models.Then we will determine the training and validation accuracy for each Random Forest model. At the end, we will graph the relationship between model accuracy and max_depth."
   ]
  },
  {
   "cell_type": "code",
   "execution_count": 20,
   "id": "2567ed83-aa47-4aaa-ba55-a75f6ff76edc",
   "metadata": {},
   "outputs": [
    {
     "name": "stdout",
     "output_type": "stream",
     "text": [
      "Optimal Value of max_depth:            28\n",
      "Training Accuracy for Optimal Model:   1.0\n",
      "Validation Accuracy for Optimal Model: 0.8677\n"
     ]
    }
   ],
   "source": [
    "rf_train_acc = []\n",
    "rf_valid_acc = []\n",
    "\n",
    "for d in depth_range:\n",
    "    np.random.seed(1)\n",
    "    temp_forest = RandomForestClassifier(n_estimators=100, max_depth=d)\n",
    "    temp_forest.fit(X_train, y_train)\n",
    "    rf_train_acc.append(temp_forest.score(X_train, y_train))\n",
    "    rf_valid_acc.append(temp_forest.score(X_valid, y_valid))\n",
    "\n",
    "rf_idx = np.argmax(rf_valid_acc)\n",
    "rf_opt_depth = depth_range[rf_idx]\n",
    "\n",
    "print('Optimal Value of max_depth:           ', round(rf_opt_depth, 4))\n",
    "print('Training Accuracy for Optimal Model:  ', round(rf_train_acc[rf_idx], 4))\n",
    "print('Validation Accuracy for Optimal Model:', round(rf_valid_acc[rf_idx], 4))"
   ]
  },
  {
   "cell_type": "markdown",
   "id": "45a4106d-3ff2-423c-832e-3669d37d0b6c",
   "metadata": {},
   "source": [
    "In the cell below, we will plot the training and validation curves as a function of max_depth."
   ]
  },
  {
   "cell_type": "code",
   "execution_count": 21,
   "id": "19497cea-d60d-4995-a461-eb784aa6380e",
   "metadata": {},
   "outputs": [
    {
     "data": {
      "image/png": "[encoded data removed]",
      "text/plain": [
       "<Figure size 640x480 with 1 Axes>"
      ]
     },
     "metadata": {},
     "output_type": "display_data"
    }
   ],
   "source": [
    "plt.plot(depth_range, rf_train_acc, label='Training')\n",
    "plt.plot(depth_range, rf_valid_acc, lw=2, label='Validation')\n",
    "\n",
    "plt.legend()\n",
    "plt.xlabel('Max Depth')\n",
    "plt.ylabel('Accuracy')\n",
    "plt.title('Random Forest Accuracy vs. Max Depth')\n",
    "plt.show()"
   ]
  },
  {
   "cell_type": "markdown",
   "id": "2f1ae09b-29b1-4a04-9262-06f9128b89d2",
   "metadata": {},
   "source": [
    "## Part 9: Create and Evaluate Final Model\n",
    "In this section, we will select our final model, and will evaluate it on the test set. Of the three model types created in this project, we will use the Random Forest as the final model because it has the highest validation accuracy. The hyperparameter values that gave the highest validation accuracy for the Random Forest model were: n_estimators=100 and max_depth=28."
   ]
  },
  {
   "cell_type": "code",
   "execution_count": 22,
   "id": "a63efdd6-339f-482a-ae90-d13c4496f6af",
   "metadata": {},
   "outputs": [
    {
     "name": "stdout",
     "output_type": "stream",
     "text": [
      "Training Accuracy for Final Model:    1.0\n",
      "Validation Accuracy for Final Model:  0.8677\n",
      "Testing Accuracy for Final Model:     0.8593\n"
     ]
    }
   ],
   "source": [
    "np.random.seed(1)\n",
    "final_model = RandomForestClassifier(n_estimators=100, max_depth=28)\n",
    "final_model.fit(X_train, y_train)\n",
    "fm_tr_acc = final_model.score(X_train, y_train)\n",
    "fm_v_acc = final_model.score(X_valid, y_valid)\n",
    "fm_test_acc = final_model.score(X_test, y_test)\n",
    "\n",
    "print('Training Accuracy for Final Model:   ', round(fm_tr_acc, 4))\n",
    "print('Validation Accuracy for Final Model: ', round(fm_v_acc, 4))\n",
    "print('Testing Accuracy for Final Model:    ', round(fm_test_acc, 4))"
   ]
  },
  {
   "cell_type": "markdown",
   "id": "9bf229ee-0fd2-43eb-aa01-067fe9051fcc",
   "metadata": {},
   "source": [
    "We will now create and display a confusion matrix detailing the model's performance on the test set."
   ]
  },
  {
   "cell_type": "code",
   "execution_count": 23,
   "id": "1091369a-a69e-4f86-b45c-833e1e898397",
   "metadata": {},
   "outputs": [
    {
     "data": {
      "text/html": [
       "<div>\n",
       "<style scoped>\n",
       "    .dataframe tbody tr th:only-of-type {\n",
       "        vertical-align: middle;\n",
       "    }\n",
       "\n",
       "    .dataframe tbody tr th {\n",
       "        vertical-align: top;\n",
       "    }\n",
       "\n",
       "    .dataframe thead th {\n",
       "        text-align: right;\n",
       "    }\n",
       "</style>\n",
       "<table border=\"1\" class=\"dataframe\">\n",
       "  <thead>\n",
       "    <tr style=\"text-align: right;\">\n",
       "      <th></th>\n",
       "      <th>1</th>\n",
       "      <th>2</th>\n",
       "      <th>3</th>\n",
       "      <th>4</th>\n",
       "      <th>5</th>\n",
       "      <th>6</th>\n",
       "      <th>7</th>\n",
       "    </tr>\n",
       "  </thead>\n",
       "  <tbody>\n",
       "    <tr>\n",
       "      <th>1</th>\n",
       "      <td>236</td>\n",
       "      <td>63</td>\n",
       "      <td>2</td>\n",
       "      <td>0</td>\n",
       "      <td>5</td>\n",
       "      <td>0</td>\n",
       "      <td>18</td>\n",
       "    </tr>\n",
       "    <tr>\n",
       "      <th>2</th>\n",
       "      <td>53</td>\n",
       "      <td>239</td>\n",
       "      <td>6</td>\n",
       "      <td>0</td>\n",
       "      <td>13</td>\n",
       "      <td>10</td>\n",
       "      <td>3</td>\n",
       "    </tr>\n",
       "    <tr>\n",
       "      <th>3</th>\n",
       "      <td>0</td>\n",
       "      <td>2</td>\n",
       "      <td>262</td>\n",
       "      <td>18</td>\n",
       "      <td>2</td>\n",
       "      <td>40</td>\n",
       "      <td>0</td>\n",
       "    </tr>\n",
       "    <tr>\n",
       "      <th>4</th>\n",
       "      <td>0</td>\n",
       "      <td>0</td>\n",
       "      <td>6</td>\n",
       "      <td>313</td>\n",
       "      <td>0</td>\n",
       "      <td>5</td>\n",
       "      <td>0</td>\n",
       "    </tr>\n",
       "    <tr>\n",
       "      <th>5</th>\n",
       "      <td>0</td>\n",
       "      <td>11</td>\n",
       "      <td>4</td>\n",
       "      <td>0</td>\n",
       "      <td>305</td>\n",
       "      <td>4</td>\n",
       "      <td>0</td>\n",
       "    </tr>\n",
       "    <tr>\n",
       "      <th>6</th>\n",
       "      <td>0</td>\n",
       "      <td>0</td>\n",
       "      <td>33</td>\n",
       "      <td>11</td>\n",
       "      <td>1</td>\n",
       "      <td>279</td>\n",
       "      <td>0</td>\n",
       "    </tr>\n",
       "    <tr>\n",
       "      <th>7</th>\n",
       "      <td>8</td>\n",
       "      <td>1</td>\n",
       "      <td>0</td>\n",
       "      <td>0</td>\n",
       "      <td>0</td>\n",
       "      <td>0</td>\n",
       "      <td>315</td>\n",
       "    </tr>\n",
       "  </tbody>\n",
       "</table>\n",
       "</div>"
      ],
      "text/plain": [
       "     1    2    3    4    5    6    7\n",
       "1  236   63    2    0    5    0   18\n",
       "2   53  239    6    0   13   10    3\n",
       "3    0    2  262   18    2   40    0\n",
       "4    0    0    6  313    0    5    0\n",
       "5    0   11    4    0  305    4    0\n",
       "6    0    0   33   11    1  279    0\n",
       "7    8    1    0    0    0    0  315"
      ]
     },
     "execution_count": 23,
     "metadata": {},
     "output_type": "execute_result"
    }
   ],
   "source": [
    "test_pred = final_model.predict(X_test)\n",
    "cm = confusion_matrix(y_test, test_pred)\n",
    "cm_df = pd.DataFrame(cm)\n",
    "cm_df.index = [1, 2, 3, 4, 5, 6, 7]        # Rename the rows\n",
    "cm_df.columns = [1, 2, 3, 4, 5, 6, 7]      # Rename the columns\n",
    "cm_df"
   ]
  },
  {
   "cell_type": "markdown",
   "id": "ddc51f24-3418-4b83-9a27-1b6ca7c9ab25",
   "metadata": {},
   "source": [
    "We will now generate a classification report to provide further insight into the\n",
    "model's performance on the test set."
   ]
  },
  {
   "cell_type": "code",
   "execution_count": 24,
   "id": "06eb7b7e-9ec0-46ee-8cfd-90c64f8589e8",
   "metadata": {},
   "outputs": [
    {
     "name": "stdout",
     "output_type": "stream",
     "text": [
      "              precision    recall  f1-score   support\n",
      "\n",
      "           1       0.79      0.73      0.76       324\n",
      "           2       0.76      0.74      0.75       324\n",
      "           3       0.84      0.81      0.82       324\n",
      "           4       0.92      0.97      0.94       324\n",
      "           5       0.94      0.94      0.94       324\n",
      "           6       0.83      0.86      0.84       324\n",
      "           7       0.94      0.97      0.95       324\n",
      "\n",
      "    accuracy                           0.86      2268\n",
      "   macro avg       0.86      0.86      0.86      2268\n",
      "weighted avg       0.86      0.86      0.86      2268\n",
      "\n"
     ]
    }
   ],
   "source": [
    "print(classification_report(y_test, test_pred))"
   ]
  }
 ],
 "metadata": {
  "kernelspec": {
   "display_name": "Python [conda env:base] *",
   "language": "python",
   "name": "conda-base-py"
  },
  "language_info": {
   "codemirror_mode": {
    "name": "ipython",
    "version": 3
   },
   "file_extension": ".py",
   "mimetype": "text/x-python",
   "name": "python",
   "nbconvert_exporter": "python",
   "pygments_lexer": "ipython3",
   "version": "3.12.7"
  }
 },
 "nbformat": 4,
 "nbformat_minor": 5
}
